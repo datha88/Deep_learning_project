{
 "cells": [
  {
   "cell_type": "code",
   "execution_count": 89,
   "metadata": {},
   "outputs": [],
   "source": [
    "import numpy as np"
   ]
  },
  {
   "cell_type": "code",
   "execution_count": 90,
   "metadata": {},
   "outputs": [],
   "source": [
    "\n",
    "def load_data(fname):\n",
    "    with open(fname,'r') as f:\n",
    "        utt_ID = [line.split(None, 1)[0] for line in f]\n",
    "    with open(fname,'r') as f:\n",
    "        y = [line.split('\\t', 2)[1] for line in f]\n",
    "    with open(fname,'r') as f:\n",
    "        x_train_org =[line.strip().split('\\t', 2)[2] for line in f]\n",
    "        x_train = [x.split(';') for x in x_train_org]\n",
    "    return utt_ID,y,x_train \n",
    "    "
   ]
  },
  {
   "cell_type": "code",
   "execution_count": 91,
   "metadata": {},
   "outputs": [
    {
     "data": {
      "text/plain": [
       "196502"
      ]
     },
     "execution_count": 91,
     "metadata": {},
     "output_type": "execute_result"
    }
   ],
   "source": [
    "utt_ID_train,y_train,x_train_org= load_data(\"utterances1.train\")\n",
    "x_train_org[0]\n",
    "len(x_train_org)"
   ]
  },
  {
   "cell_type": "code",
   "execution_count": 92,
   "metadata": {},
   "outputs": [],
   "source": [
    "# Padding the input data\n",
    "input_length = 10 # average length \n",
    "\n",
    "def pad(ut):\n",
    "    return ut[:10]+['' for i in range(input_length-len(ut))]\n"
   ]
  },
  {
   "cell_type": "code",
   "execution_count": 93,
   "metadata": {},
   "outputs": [],
   "source": [
    "x_train=[None]*len(x_train_org)\n",
    "for i in range(len(x_train_org)):\n",
    "    res = []\n",
    "    for list in x_train_org[i]:\n",
    "        res.append(str(list).lower().split())\n",
    "    x_train[i]=res"
   ]
  },
  {
   "cell_type": "code",
   "execution_count": 94,
   "metadata": {},
   "outputs": [],
   "source": [
    "#x_train_proc = processX(x_train_org)\n",
    "\n",
    "x_train_pad= np.array([[ pad(ut) for ut in dialog] for dialog in x_train])"
   ]
  },
  {
   "cell_type": "code",
   "execution_count": 42,
   "metadata": {},
   "outputs": [
    {
     "name": "stdout",
     "output_type": "stream",
     "text": [
      "92\n"
     ]
    }
   ],
   "source": [
    "uniqueWords = []\n",
    "for i in range(len(x_train_org)):\n",
    "        for j in range(len(x_train_pad[i])):\n",
    "             for k in x_train[i][j]:\n",
    "                    if not k.lower() in uniqueWords:\n",
    "                        uniqueWords.append(k.lower())\n",
    "print(len(uniqueWords))"
   ]
  },
  {
   "cell_type": "code",
   "execution_count": 95,
   "metadata": {},
   "outputs": [
    {
     "name": "stdout",
     "output_type": "stream",
     "text": [
      "16739\n"
     ]
    }
   ],
   "source": [
    "uniqueWords=np.unique([word for dialog in (x_train_pad) for ut in dialog for word in ut])\n",
    "print(len(uniqueWords))"
   ]
  },
  {
   "cell_type": "code",
   "execution_count": 96,
   "metadata": {},
   "outputs": [],
   "source": [
    "i=1\n",
    "vocab ={}\n",
    "for x in uniqueWords:\n",
    "    vocab.update({x:i})\n",
    "    i=i+1\n",
    "#for i in uniqueWords:\n",
    "#    print(i.lower())\n",
    "#INDEX_FROM = 2 \n",
    "\n",
    "# Dict {word:id}\n",
    "word_to_id = vocab#{x:vocab[x]+INDEX_FROM for x in vocab if vocab[x]<=2000}\n",
    "#word_to_id[\"<START>\"] = 1\n",
    "#word_to_id[\"<UNK>\"] = 2\n",
    "\n",
    "\n",
    "# Dict {id:word}\n",
    "id_to_word = {word_to_id[x]:x for x in word_to_id}"
   ]
  },
  {
   "cell_type": "code",
   "execution_count": 45,
   "metadata": {},
   "outputs": [],
   "source": [
    "def get_W(word_vecs, k=300):\n",
    "    \"\"\"\n",
    "    Get word matrix. W[i] is the vector for word indexed by i\n",
    "    \"\"\"\n",
    "    vocab_size = len(word_vecs)\n",
    "    word_idx_map = dict()\n",
    "    W = np.zeros(shape=(vocab_size + 1, k), dtype='float32')\n",
    "    W[0] = np.zeros(k, dtype='float32')\n",
    "    i = 1\n",
    "    for word in word_vecs:\n",
    "        W[i] = word_vecs[word]\n",
    "        word_idx_map[word] = i\n",
    "        i += 1\n",
    "    return W, word_idx_map\n",
    "\n",
    "\n",
    "def load_bin_vec(fname, vocab):\n",
    "    \"\"\"\n",
    "    Loads 300x1 word vecs from Google (Mikolov) word2vec\n",
    "    \"\"\"\n",
    "    word_vecs = {}\n",
    "    with open(fname, \"rb\") as f:\n",
    "        header = f.readline()\n",
    "        # ~ print(header)\n",
    "        vocab_size, layer1_size = map(int, header.split())\n",
    "        binary_len = np.dtype('float32').itemsize * layer1_size\n",
    "        # print(vocab_size)\n",
    "        for line in range(vocab_size):\n",
    "            # print(line)\n",
    "            word = []\n",
    "            while True:\n",
    "                ch = f.read(1).decode('iso-8859-1')\n",
    "                if ch == ' ':\n",
    "                    word = ''.join(word)\n",
    "                    break\n",
    "                if ch != '\\n':\n",
    "                    word.append(ch)\n",
    "            # print(word)\n",
    "            if word in vocab:\n",
    "                # print(word)\n",
    "                word_vecs[word] = np.frombuffer(f.read(binary_len), dtype='float32')\n",
    "            else:\n",
    "                f.read(binary_len)\n",
    "\n",
    "    return word_vecs\n",
    "\n",
    "def add_unknown_words(word_vecs, vocab, min_df=1, k=300):\n",
    "    \"\"\"\n",
    "    For words that occur in at least min_df documents, create a separate word vector.    \n",
    "    0.25 is chosen so the unknown vectors have (approximately) same variance as pre-trained ones\n",
    "    \"\"\"\n",
    "    for word in vocab:\n",
    "        if word not in word_vecs and vocab[word] >= min_df:\n",
    "            word_vecs[word] = np.random.uniform(-0.25, 0.25, k)\n",
    "            "
   ]
  },
  {
   "cell_type": "code",
   "execution_count": 97,
   "metadata": {},
   "outputs": [],
   "source": [
    "vocab_list = np.array([id_to_word[x] for x in range(1,len(uniqueWords)+1)])"
   ]
  },
  {
   "cell_type": "code",
   "execution_count": 98,
   "metadata": {},
   "outputs": [
    {
     "name": "stdout",
     "output_type": "stream",
     "text": [
      "num words found: 14246\n",
      "W shape: (16740, 300)\n",
      "68 seconds to get the embeddings\n"
     ]
    }
   ],
   "source": [
    "import time\n",
    "start = time.time()\n",
    "w2v_file = \"GoogleNews-vectors-negative300.bin\"\n",
    "w2v = load_bin_vec(w2v_file, word_to_id)\n",
    "print(\"num words found: %d\" % len(w2v))\n",
    "add_unknown_words(w2v, word_to_id, k=300)\n",
    "W, word_idx_map = get_W(w2v, k=300)\n",
    "\n",
    "print(\"W shape: %s\" % str(W.shape))\n",
    "\n",
    "print(\"%d seconds to get the embeddings\" % (time.time()-start))"
   ]
  },
  {
   "cell_type": "code",
   "execution_count": 48,
   "metadata": {
    "scrolled": true
   },
   "outputs": [
    {
     "ename": "KeyError",
     "evalue": "'air'",
     "output_type": "error",
     "traceback": [
      "\u001b[1;31m---------------------------------------------------------------------------\u001b[0m",
      "\u001b[1;31mKeyError\u001b[0m                                  Traceback (most recent call last)",
      "\u001b[1;32m<ipython-input-48-46da20d297af>\u001b[0m in \u001b[0;36m<module>\u001b[1;34m\u001b[0m\n\u001b[0;32m     10\u001b[0m             \u001b[0mx_embedded_train_uttr_k\u001b[0m \u001b[1;33m=\u001b[0m \u001b[0mnp\u001b[0m\u001b[1;33m.\u001b[0m\u001b[0mzeros\u001b[0m\u001b[1;33m(\u001b[0m\u001b[1;33m[\u001b[0m\u001b[0mlen\u001b[0m\u001b[1;33m(\u001b[0m\u001b[0mi\u001b[0m\u001b[1;33m[\u001b[0m\u001b[0mj\u001b[0m\u001b[1;33m]\u001b[0m\u001b[1;33m)\u001b[0m\u001b[1;33m,\u001b[0m\u001b[1;36m300\u001b[0m\u001b[1;33m]\u001b[0m\u001b[1;33m,\u001b[0m\u001b[0mdtype\u001b[0m\u001b[1;33m=\u001b[0m\u001b[0mfloat\u001b[0m\u001b[1;33m)\u001b[0m\u001b[1;33m\u001b[0m\u001b[1;33m\u001b[0m\u001b[0m\n\u001b[0;32m     11\u001b[0m             \u001b[1;32mfor\u001b[0m \u001b[0mk\u001b[0m \u001b[1;32min\u001b[0m \u001b[0mrange\u001b[0m\u001b[1;33m(\u001b[0m\u001b[0mlen\u001b[0m\u001b[1;33m(\u001b[0m\u001b[0mi\u001b[0m\u001b[1;33m[\u001b[0m\u001b[0mj\u001b[0m\u001b[1;33m]\u001b[0m\u001b[1;33m)\u001b[0m\u001b[1;33m)\u001b[0m\u001b[1;33m:\u001b[0m\u001b[1;33m\u001b[0m\u001b[1;33m\u001b[0m\u001b[0m\n\u001b[1;32m---> 12\u001b[1;33m                 \u001b[0mx_embedded_train_uttr_k\u001b[0m\u001b[1;33m[\u001b[0m\u001b[0mk\u001b[0m\u001b[1;33m]\u001b[0m\u001b[1;33m=\u001b[0m \u001b[0mw2v\u001b[0m\u001b[1;33m[\u001b[0m\u001b[0mi\u001b[0m\u001b[1;33m[\u001b[0m\u001b[0mj\u001b[0m\u001b[1;33m]\u001b[0m\u001b[1;33m[\u001b[0m\u001b[0mk\u001b[0m\u001b[1;33m]\u001b[0m\u001b[1;33m]\u001b[0m\u001b[1;33m\u001b[0m\u001b[1;33m\u001b[0m\u001b[0m\n\u001b[0m\u001b[0;32m     13\u001b[0m             \u001b[0mx_embedded_train_uttr\u001b[0m\u001b[1;33m[\u001b[0m\u001b[0mj\u001b[0m\u001b[1;33m]\u001b[0m\u001b[1;33m=\u001b[0m\u001b[0mnp\u001b[0m\u001b[1;33m.\u001b[0m\u001b[0marray\u001b[0m\u001b[1;33m(\u001b[0m\u001b[0mx_embedded_train_uttr_k\u001b[0m\u001b[1;33m)\u001b[0m\u001b[1;33m\u001b[0m\u001b[1;33m\u001b[0m\u001b[0m\n\u001b[0;32m     14\u001b[0m     \u001b[0mx_embedded_train\u001b[0m\u001b[1;33m[\u001b[0m\u001b[0mid_i\u001b[0m\u001b[1;33m]\u001b[0m \u001b[1;33m=\u001b[0m \u001b[0mnp\u001b[0m\u001b[1;33m.\u001b[0m\u001b[0marray\u001b[0m\u001b[1;33m(\u001b[0m\u001b[0mx_embedded_train_uttr\u001b[0m\u001b[1;33m)\u001b[0m\u001b[1;33m\u001b[0m\u001b[1;33m\u001b[0m\u001b[0m\n",
      "\u001b[1;31mKeyError\u001b[0m: 'air'"
     ]
    }
   ],
   "source": [
    "x_embedded_train = np.empty(len(x_train_org),dtype=object)\n",
    "\n",
    "for id_i, i in enumerate(x_train):\n",
    "    x_embedded_train_uttr = np.empty(len(x_train[0]),dtype=object)\n",
    "    for j in range(len(i)):\n",
    "        if(len(i[j])==0):\n",
    "            temp=np.zeros([1,300],dtype=float)\n",
    "            x_embedded_train_uttr[j]=np.array(temp)\n",
    "        else:\n",
    "            x_embedded_train_uttr_k = np.zeros([len(i[j]),300],dtype=float)\n",
    "            for k in range(len(i[j])):\n",
    "                x_embedded_train_uttr_k[k]= w2v[i[j][k]]\n",
    "            x_embedded_train_uttr[j]=np.array(x_embedded_train_uttr_k)\n",
    "    x_embedded_train[id_i] = np.array(x_embedded_train_uttr)\n",
    "                "
   ]
  },
  {
   "cell_type": "code",
   "execution_count": 49,
   "metadata": {},
   "outputs": [],
   "source": [
    "def embedding(x_proc):\n",
    "    x_embedded = np.array([[[W[word_idx_map[word]] for word in ut] for ut in dialog] for dialog in x_proc])\n",
    "    x_flatten = np.array([[ ut.flatten() for ut in dialog] for dialog in x_embedded])\n",
    "    return x_flatten\n"
   ]
  },
  {
   "cell_type": "code",
   "execution_count": 52,
   "metadata": {},
   "outputs": [
    {
     "data": {
      "text/plain": [
       "(10, 4, 3000)"
      ]
     },
     "execution_count": 52,
     "metadata": {},
     "output_type": "execute_result"
    }
   ],
   "source": [
    "x_em= embedding(x_train_pad)\n",
    "x_em.shape"
   ]
  },
  {
   "cell_type": "code",
   "execution_count": 60,
   "metadata": {},
   "outputs": [],
   "source": [
    "#Labels\n",
    "labels = np.array(['%', '%--', '2', 'aa', 'aap', 'ar', 'b', 'ba', 'bc', 'bd', 'bh', 'bk', 'br', 'bs', 'cc', 'co', 'd', 'fa', 'ft', 'g', 'h', 'no', 'qh', 'qo', 'qrr', 'qw', 'qy', 's', 't1', 't3','x']).tolist()\n",
    "\n",
    "id_to_label = dict()\n",
    "for i in range(len(labels)):\n",
    "    id_to_label[labels[i]] = i\n",
    "\n",
    "def labelToIndex(y):\n",
    "    y_encoded = [id_to_label[l] for l in y]\n",
    "    #print(y_encoded)\n",
    "    return np.array(y_encoded)\n",
    "\n",
    "def indexToLabel(pred_y):\n",
    "    y_labels = [labels[p] for p in pred_y]\n",
    "    #print(y_labels)\n",
    "    return y_labels"
   ]
  },
  {
   "cell_type": "code",
   "execution_count": 77,
   "metadata": {},
   "outputs": [
    {
     "name": "stdout",
     "output_type": "stream",
     "text": [
      "Original train:  ['bc', 'qw', 'h', 's', 'qo', 's', 's', 's', 'b', 'qy']\n",
      "Encoded train:  [ 8 25 20 27 23 27 27 27  6 26]\n"
     ]
    }
   ],
   "source": [
    "print(\"Original train: \", y_train)\n",
    "y_tr = labelToIndex(y_train)\n",
    "print(\"Encoded train: \", y_tr)\n",
    "from keras.utils import np_utils\n",
    "\n",
    "y_train_cat = np_utils.to_categorical(y_tr)\n",
    "num_classes=np.unique(y_tr).size"
   ]
  },
  {
   "cell_type": "code",
   "execution_count": 86,
   "metadata": {},
   "outputs": [
    {
     "name": "stdout",
     "output_type": "stream",
     "text": [
      "28\n"
     ]
    }
   ],
   "source": [
    "num_classes = y_train_cat.shape[1]\n",
    "print(num_classes)"
   ]
  },
  {
   "cell_type": "code",
   "execution_count": 102,
   "metadata": {},
   "outputs": [
    {
     "name": "stdout",
     "output_type": "stream",
     "text": [
      "_________________________________________________________________\n",
      "Layer (type)                 Output Shape              Param #   \n",
      "=================================================================\n",
      "bidirectional_4 (Bidirection (None, 20)                240880    \n",
      "_________________________________________________________________\n",
      "dense_13 (Dense)             (None, 28)                588       \n",
      "=================================================================\n",
      "Total params: 241,468\n",
      "Trainable params: 241,468\n",
      "Non-trainable params: 0\n",
      "_________________________________________________________________\n",
      "None\n"
     ]
    }
   ],
   "source": [
    "from keras.models import Model\n",
    "from keras.layers import LSTM\n",
    "from keras.models import Sequential\n",
    "from keras.layers import Dense,Bidirectional\n",
    "#from keras.preprocessing import sequence\n",
    "#input_length=4\n",
    "model=Sequential()\n",
    "time_steps=x_em.shape[1]\n",
    "features=x_em.shape[2]\n",
    " \n",
    "model.add(Bidirectional(LSTM(units= 10,  activation='tanh'),input_shape=(time_steps,features)))\n",
    "#model.add(Dense(10, activation='relu'))\n",
    "model.add(Dense(num_classes, activation='tanh'))\n",
    "print(model.summary())\n",
    "# plot_model(model, to_file='Sent_FF.png', show_shapes=False, show_layer_names=True, rankdir='TB')\n",
    "\n",
    "# loss function = binary_crossentropy\n",
    "model.compile(loss='binary_crossentropy', optimizer='adam', metrics=['accuracy'])"
   ]
  },
  {
   "cell_type": "code",
   "execution_count": null,
   "metadata": {},
   "outputs": [],
   "source": []
  },
  {
   "cell_type": "code",
   "execution_count": 103,
   "metadata": {},
   "outputs": [
    {
     "name": "stdout",
     "output_type": "stream",
     "text": [
      "Epoch 1/2\n",
      " - 4s - loss: 0.3273 - acc: 0.9643\n",
      "Epoch 2/2\n",
      " - 0s - loss: 0.2100 - acc: 0.9643\n"
     ]
    },
    {
     "data": {
      "text/plain": [
       "<keras.callbacks.History at 0x246b0eb7da0>"
      ]
     },
     "execution_count": 103,
     "metadata": {},
     "output_type": "execute_result"
    }
   ],
   "source": [
    "#model.fit(x_embedded_train, y_train, validation_data=(x_embedded_train, y_train), epochs=2, batch_size=128, verbose=2)\n",
    "#model.fit(x_em, y_train_cat, validation_data=(x_em, y_train_cat), epochs=2, batch_size=128, verbose=2)\n",
    "model.fit(x_em, y_train_cat,  epochs=2, batch_size=128, verbose=2)"
   ]
  },
  {
   "cell_type": "code",
   "execution_count": 15,
   "metadata": {},
   "outputs": [
    {
     "name": "stdout",
     "output_type": "stream",
     "text": [
      "max 66\n",
      "mean 15\n"
     ]
    }
   ],
   "source": [
    "lengths = []\n",
    "for i in x_train:\n",
    "    for j in i:\n",
    "        lengths.append(len(j))\n",
    "\n",
    "print(\"max %d\" % max(lengths))\n",
    "print(\"mean %d\" % np.mean(lengths))\n",
    "max_length=max(lengths)\n",
    "mean_length=np.int(np.mean(lengths))"
   ]
  },
  {
   "cell_type": "code",
   "execution_count": 14,
   "metadata": {},
   "outputs": [
    {
     "data": {
      "text/plain": [
       "'i'"
      ]
     },
     "execution_count": 14,
     "metadata": {},
     "output_type": "execute_result"
    }
   ],
   "source": [
    "x[0]"
   ]
  },
  {
   "cell_type": "code",
   "execution_count": null,
   "metadata": {},
   "outputs": [],
   "source": []
  }
 ],
 "metadata": {
  "kernelspec": {
   "display_name": "Python 3",
   "language": "python",
   "name": "python3"
  },
  "language_info": {
   "codemirror_mode": {
    "name": "ipython",
    "version": 3
   },
   "file_extension": ".py",
   "mimetype": "text/x-python",
   "name": "python",
   "nbconvert_exporter": "python",
   "pygments_lexer": "ipython3",
   "version": "3.6.8"
  }
 },
 "nbformat": 4,
 "nbformat_minor": 2
}
