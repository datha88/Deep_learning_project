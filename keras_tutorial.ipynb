{
 "cells": [
  {
   "cell_type": "markdown",
   "metadata": {},
   "source": [
    "# Keras\n",
    "\n",
    "### A high-level neural networks API, writen in Python and capable of running on top of Tensorflow, Microsoft Cognitive Toolkit (CNTK), or Theano."
   ]
  },
  {
   "cell_type": "markdown",
   "metadata": {},
   "source": [
    "## Handwritten digit recognition\n",
    "* Images of digits (0-9), i.e. 10 classes to predict\n",
    "* Each image is a 28 by 28 pixel square (784 pixels total)"
   ]
  },
  {
   "cell_type": "code",
   "execution_count": 1,
   "metadata": {},
   "outputs": [
    {
     "name": "stderr",
     "output_type": "stream",
     "text": [
      "Using TensorFlow backend.\n"
     ]
    },
    {
     "name": "stdout",
     "output_type": "stream",
     "text": [
      "Number of train elements/images: 60000\n",
      "Number of test  elements/images: 10000\n",
      "Element shape (28, 28)\n"
     ]
    }
   ],
   "source": [
    "import time\n",
    "global_start = time.time()\n",
    "# Define GPUs to be used\n",
    "import os\n",
    "os.environ[\"CUDA_VISIBLE_DEVICES\"] = \"0\"\n",
    "\n",
    "# Fix random seed for reproducibility\n",
    "import numpy as np\n",
    "seed = 7\n",
    "np.random.seed(seed)\n",
    "\n",
    "# Loading data\n",
    "from keras.datasets import mnist\n",
    "(X_train, y_train), (X_test, y_test) = mnist.load_data()\n",
    "\n",
    "# Exploring the data\n",
    "print (\"Number of train elements/images:\", len(X_train))\n",
    "print (\"Number of test  elements/images:\", len(X_test))\n",
    "\n",
    "print (\"Element shape\", X_train[0].shape)\n",
    "# print \"First element:\\n\", X_train[0]\n",
    "# print \"First element class\", y_train[0]\n",
    "\n",
    "# Reducing dataset elements to be run on CPU\n",
    "X_train = X_train[:6000]\n",
    "y_train = y_train[:6000]\n",
    "X_test = X_test[:1000]\n",
    "y_test = y_test[:1000]\n"
   ]
  },
  {
   "cell_type": "code",
   "execution_count": 2,
   "metadata": {},
   "outputs": [
    {
     "data": {
      "text/plain": [
       "<Figure size 640x480 with 4 Axes>"
      ]
     },
     "metadata": {},
     "output_type": "display_data"
    }
   ],
   "source": [
    "# Plotting some items in gray scale \n",
    "import matplotlib.pyplot as plt\n",
    "plt.subplot(221)\n",
    "plt.imshow(X_train[0], cmap=plt.get_cmap('gray'))\n",
    "plt.subplot(222)\n",
    "plt.imshow(X_train[1], cmap=plt.get_cmap('gray'))\n",
    "plt.subplot(223)\n",
    "plt.imshow(X_train[2], cmap=plt.get_cmap('gray'))\n",
    "plt.subplot(224)\n",
    "plt.imshow(X_train[3], cmap=plt.get_cmap('gray'))\n",
    "\n",
    "# show the plot\n",
    "plt.show()"
   ]
  },
  {
   "cell_type": "code",
   "execution_count": 3,
   "metadata": {},
   "outputs": [
    {
     "name": "stdout",
     "output_type": "stream",
     "text": [
      "X_train shape (before):  (6000, 28, 28)\n",
      "X_train shape (after):  (6000, 784)\n"
     ]
    }
   ],
   "source": [
    "# Preprocessing data\n",
    "\n",
    "# Flattening 28*28 images to 784 vector for each image\n",
    "print (\"X_train shape (before): \", X_train.shape)\n",
    "\n",
    "num_pixels = X_train.shape[1]*X_train.shape[2]\n",
    "\n",
    "X_train_flat = X_train.reshape(X_train.shape[0], num_pixels)\n",
    "X_test_flat = X_test.reshape(X_test.shape[0], num_pixels)\n",
    "\n",
    "print (\"X_train shape (after): \", X_train_flat.shape)\n",
    "\n",
    "# Normalizing inputs from 0-255 to 0-1\n",
    "X_train_flat = X_train_flat/255.0\n",
    "X_test_flat = X_test_flat/255.0"
   ]
  },
  {
   "cell_type": "code",
   "execution_count": 4,
   "metadata": {},
   "outputs": [
    {
     "name": "stdout",
     "output_type": "stream",
     "text": [
      "(1000,)\n",
      "10\n",
      "(1000, 10)\n"
     ]
    }
   ],
   "source": [
    "# One hot encoding the target vector\n",
    "from keras.utils import np_utils\n",
    "print (y_test.shape)\n",
    "y_train_cat = np_utils.to_categorical(y_train)\n",
    "y_test_cat = np_utils.to_categorical(y_test)\n",
    "num_classes = y_test_cat.shape[1]\n",
    "print (num_classes)\n",
    "print (y_test_cat.shape)"
   ]
  },
  {
   "cell_type": "markdown",
   "metadata": {},
   "source": [
    "## Multi-Layer Perceptron"
   ]
  },
  {
   "cell_type": "code",
   "execution_count": 5,
   "metadata": {},
   "outputs": [],
   "source": [
    "# Generate the model \n",
    "from keras.models import Sequential\n",
    "from keras.layers import Dense\n",
    "\n",
    "\n",
    "# Create a sequential model\n",
    "model = Sequential()\n",
    "# Add feed-forward layer\n",
    "model.add(Dense(units=200, input_dim=num_pixels, kernel_initializer='normal', activation='relu'))\n",
    "# Add softmax layer\n",
    "model.add(Dense(num_classes, kernel_initializer='normal', activation='softmax'))"
   ]
  },
  {
   "cell_type": "code",
   "execution_count": 6,
   "metadata": {},
   "outputs": [
    {
     "name": "stdout",
     "output_type": "stream",
     "text": [
      "_________________________________________________________________\n",
      "Layer (type)                 Output Shape              Param #   \n",
      "=================================================================\n",
      "dense_1 (Dense)              (None, 200)               157000    \n",
      "_________________________________________________________________\n",
      "dense_2 (Dense)              (None, 10)                2010      \n",
      "=================================================================\n",
      "Total params: 159,010\n",
      "Trainable params: 159,010\n",
      "Non-trainable params: 0\n",
      "_________________________________________________________________\n"
     ]
    }
   ],
   "source": [
    "# View model architecture\n",
    "model.summary() "
   ]
  },
  {
   "cell_type": "code",
   "execution_count": 7,
   "metadata": {},
   "outputs": [
    {
     "data": {
      "image/png": "[encoded data removed]",
      "text/plain": [
       "<Figure size 432x288 with 1 Axes>"
      ]
     },
     "metadata": {
      "needs_background": "light"
     },
     "output_type": "display_data"
    }
   ],
   "source": [
    "# Plotting the model\n",
    "from keras.utils import plot_model\n",
    "\n",
    "def plot_show_model(model):\n",
    "    plot_model(model, to_file='FF.png', show_shapes=False, show_layer_names=True, rankdir='TB')\n",
    "    import matplotlib.pyplot as plt\n",
    "    import matplotlib.image as mpimg\n",
    "    img=mpimg.imread('FF.png')\n",
    "    imgplot = plt.imshow(img)\n",
    "    plt.show()\n",
    "    \n",
    "plot_show_model(model)"
   ]
  },
  {
   "cell_type": "code",
   "execution_count": 8,
   "metadata": {},
   "outputs": [],
   "source": [
    "# Model compilation\n",
    "# Parameters:\n",
    "#    loss='categorical_crossentropy'\n",
    "#    optimizer='adam'\n",
    "#    metrics=['accuracy']   \n",
    "#    List of metrics evaluated during training and testing\n",
    "model.compile(loss='categorical_crossentropy', optimizer='adam', metrics=['accuracy'])"
   ]
  },
  {
   "cell_type": "code",
   "execution_count": 9,
   "metadata": {},
   "outputs": [
    {
     "name": "stdout",
     "output_type": "stream",
     "text": [
      "Train on 6000 samples, validate on 1000 samples\n",
      "Epoch 1/10\n",
      "6000/6000 [==============================] - 2s 314us/step - loss: 1.0987 - acc: 0.7417 - val_loss: 0.5863 - val_acc: 0.8500\n",
      "Epoch 2/10\n",
      "6000/6000 [==============================] - 1s 197us/step - loss: 0.3940 - acc: 0.8983 - val_loss: 0.4213 - val_acc: 0.8840\n",
      "Epoch 3/10\n",
      "6000/6000 [==============================] - 1s 169us/step - loss: 0.2961 - acc: 0.9220 - val_loss: 0.3508 - val_acc: 0.8940\n",
      "Epoch 4/10\n",
      "6000/6000 [==============================] - 1s 136us/step - loss: 0.2453 - acc: 0.9328 - val_loss: 0.3203 - val_acc: 0.9040\n",
      "Epoch 5/10\n",
      "6000/6000 [==============================] - 1s 101us/step - loss: 0.2061 - acc: 0.9458 - val_loss: 0.2912 - val_acc: 0.9100\n",
      "Epoch 6/10\n",
      "6000/6000 [==============================] - 1s 87us/step - loss: 0.1764 - acc: 0.9527 - val_loss: 0.2809 - val_acc: 0.9090\n",
      "Epoch 7/10\n",
      "6000/6000 [==============================] - 1s 84us/step - loss: 0.1563 - acc: 0.9585 - val_loss: 0.2647 - val_acc: 0.9180\n",
      "Epoch 8/10\n",
      "6000/6000 [==============================] - 0s 79us/step - loss: 0.1372 - acc: 0.9630 - val_loss: 0.2599 - val_acc: 0.9190\n",
      "Epoch 9/10\n",
      "6000/6000 [==============================] - 0s 72us/step - loss: 0.1187 - acc: 0.9693 - val_loss: 0.2446 - val_acc: 0.9250\n",
      "Epoch 10/10\n",
      "6000/6000 [==============================] - 0s 73us/step - loss: 0.1043 - acc: 0.9753 - val_loss: 0.2432 - val_acc: 0.9230\n"
     ]
    },
    {
     "data": {
      "text/plain": [
       "<keras.callbacks.History at 0x22c7fac1ba8>"
      ]
     },
     "execution_count": 9,
     "metadata": {},
     "output_type": "execute_result"
    }
   ],
   "source": [
    "# Model training\n",
    "model.fit(X_train_flat, y_train_cat, validation_data=(X_test_flat, y_test_cat), epochs=10, batch_size=128, verbose=1)"
   ]
  },
  {
   "cell_type": "code",
   "execution_count": 10,
   "metadata": {},
   "outputs": [
    {
     "name": "stdout",
     "output_type": "stream",
     "text": [
      "Accuracy:  92.3 %\n",
      "Prediction shape: (1000, 10)\n",
      "[  9.34328000e-06   1.91899886e-07   8.21068243e-05   2.40677712e-03\n",
      "   4.73880633e-08   5.57326712e-06   1.27425492e-09   9.97374535e-01\n",
      "   7.53264521e-06   1.13951319e-04]\n"
     ]
    }
   ],
   "source": [
    "score = model.evaluate(X_test_flat, y_test_cat, verbose=0)\n",
    "print (\"Accuracy: \", score[1]*100, \"%\")\n",
    "\n",
    "# Probability distribution over the classes shape:(elements, classes)\n",
    "prediction = model.predict(X_test_flat)\n",
    "\n",
    "print (\"Prediction shape:\",  prediction.shape)\n",
    "\n",
    "print (prediction[0])\n",
    "\n"
   ]
  },
  {
   "cell_type": "code",
   "execution_count": 11,
   "metadata": {},
   "outputs": [
    {
     "name": "stdout",
     "output_type": "stream",
     "text": [
      "Prediction shape: (1000,)\n",
      "7\n"
     ]
    }
   ],
   "source": [
    "# Getting the right prediction\n",
    "predicted_classes = model.predict(X_test_flat).argmax(axis=1)\n",
    "print (\"Prediction shape:\",  predicted_classes.shape)\n",
    "print (predicted_classes[0])"
   ]
  },
  {
   "cell_type": "markdown",
   "metadata": {},
   "source": [
    "## A Simple Convolutional Neural Network"
   ]
  },
  {
   "cell_type": "code",
   "execution_count": 12,
   "metadata": {},
   "outputs": [
    {
     "name": "stdout",
     "output_type": "stream",
     "text": [
      "(6000, 28, 28, 1) (1000, 28, 28, 1)\n",
      "_________________________________________________________________\n",
      "Layer (type)                 Output Shape              Param #   \n",
      "=================================================================\n",
      "conv2d_1 (Conv2D)            (None, 19, 19, 100)       10100     \n",
      "_________________________________________________________________\n",
      "max_pooling2d_1 (MaxPooling2 (None, 2, 2, 100)         0         \n",
      "_________________________________________________________________\n",
      "flatten_1 (Flatten)          (None, 400)               0         \n",
      "_________________________________________________________________\n",
      "dense_3 (Dense)              (None, 10)                4010      \n",
      "=================================================================\n",
      "Total params: 14,110\n",
      "Trainable params: 14,110\n",
      "Non-trainable params: 0\n",
      "_________________________________________________________________\n",
      "Train on 4800 samples, validate on 1200 samples\n",
      "Epoch 1/5\n",
      "4800/4800 [==============================] - 7s 1ms/step - loss: 1.0329 - acc: 0.7748 - val_loss: 0.3925 - val_acc: 0.9192\n",
      "Epoch 2/5\n",
      "4800/4800 [==============================] - 7s 1ms/step - loss: 0.2577 - acc: 0.9410 - val_loss: 0.2290 - val_acc: 0.9425\n",
      "Epoch 3/5\n",
      "4800/4800 [==============================] - 7s 1ms/step - loss: 0.1650 - acc: 0.9610 - val_loss: 0.1832 - val_acc: 0.9400\n",
      "Epoch 4/5\n",
      "4800/4800 [==============================] - 7s 2ms/step - loss: 0.1291 - acc: 0.9652 - val_loss: 0.1518 - val_acc: 0.9525\n",
      "Epoch 5/5\n",
      "4800/4800 [==============================] - 7s 2ms/step - loss: 0.0997 - acc: 0.9765 - val_loss: 0.1372 - val_acc: 0.9642\n",
      "Accuracy on test set:  96.6 %\n"
     ]
    }
   ],
   "source": [
    "# Generate the model \n",
    "from keras.models import Sequential\n",
    "from keras.layers import Dense, Flatten, Conv2D, MaxPooling2D\n",
    "\n",
    "# Loading data\n",
    "from keras.datasets import mnist\n",
    "(X_train, y_train), (X_test, y_test) = mnist.load_data()\n",
    "\n",
    "# Reducing dataset elements to be run on CPU\n",
    "X_train = X_train[:6000]\n",
    "y_train = y_train[:6000]\n",
    "X_test = X_test[:1000]\n",
    "y_test = y_test[:1000]\n",
    "\n",
    "\n",
    "# Preprocess data\n",
    "\n",
    "X_train_4D = np.expand_dims(X_train, axis=-1)/255.0\n",
    "X_test_4D = np.expand_dims(X_test, axis=-1)/255.0\n",
    "print (X_train_4D.shape, X_test_4D.shape)\n",
    "\n",
    "# Creating the model\n",
    "model = Sequential()\n",
    "model.add(Conv2D(filters=100, kernel_size=(10, 10), \n",
    "                 input_shape=X_train_4D.shape[1:], \n",
    "                 activation='relu'))\n",
    "\n",
    "#model.add(Conv2D(10, (8, 8), activation='relu'))\n",
    "model.add(MaxPooling2D(pool_size=(9,9)))\n",
    "model.add(Flatten())\n",
    "model.add(Dense(10, activation='softmax'))\n",
    "\n",
    "model.summary()\n",
    "\n",
    "model.compile(loss='categorical_crossentropy',\n",
    "              optimizer='adam',\n",
    "              metrics=['accuracy'])\n",
    "\n",
    "np.random.seed(500)\n",
    "\n",
    "history = model.fit(X_train_4D, y_train_cat, validation_split=0.20, batch_size=32, epochs=5, verbose=1)\n",
    "\n",
    "score = model.evaluate(X_test_4D, y_test_cat, verbose=0)\n",
    "\n",
    "print (\"Accuracy on test set: \", score[1]*100, \"%\")\n"
   ]
  },
  {
   "cell_type": "markdown",
   "metadata": {},
   "source": [
    "### Training History Visualization"
   ]
  },
  {
   "cell_type": "code",
   "execution_count": 13,
   "metadata": {},
   "outputs": [
    {
     "data": {
      "image/png": "[encoded data removed]",
      "text/plain": [
       "<Figure size 432x288 with 1 Axes>"
      ]
     },
     "metadata": {
      "needs_background": "light"
     },
     "output_type": "display_data"
    },
    {
     "data": {
      "image/png": "[encoded data removed]",
      "text/plain": [
       "<Figure size 432x288 with 1 Axes>"
      ]
     },
     "metadata": {
      "needs_background": "light"
     },
     "output_type": "display_data"
    }
   ],
   "source": [
    "# Plot training & validation accuracy values\n",
    "plt.plot(history.history['acc'])\n",
    "plt.plot(history.history['val_acc'])\n",
    "plt.title('Model accuracy')\n",
    "plt.ylabel('Accuracy')\n",
    "plt.xlabel('Epoch')\n",
    "plt.legend(['Train', 'Test'], loc='upper left')\n",
    "plt.show()\n",
    "\n",
    "# Plot training & validation loss values\n",
    "plt.plot(history.history['loss'])\n",
    "plt.plot(history.history['val_loss'])\n",
    "plt.title('Model loss')\n",
    "plt.ylabel('Loss')\n",
    "plt.xlabel('Epoch')\n",
    "plt.legend(['Train', 'Test'], loc='upper left')\n",
    "plt.show()\n"
   ]
  },
  {
   "cell_type": "markdown",
   "metadata": {},
   "source": [
    "## Sentiment Analysis\n",
    "\n",
    "* Sentiment analysis aims to determine the attitude of a speaker or a writer with respect to some topic or the overall contextual polarity of a document.\n",
    "\n",
    "* Most common classes: positive, negative, and neutral.\n",
    "\n"
   ]
  },
  {
   "cell_type": "markdown",
   "metadata": {},
   "source": [
    "### Dataset: IMDB Movie reviews sentiment classification\n",
    "\n",
    "* Dataset of 25,000 movies reviews from IMDB, labeled by sentiment (positive/negative). \n",
    "* Reviews have been preprocessed, and each review is encoded as a sequence of word indexes (integers). \n",
    "* Words are indexed by overall frequency in the dataset\n",
    "\n",
    "[Source: https://keras.io/datasets/#imdb-movie-reviews-sentiment-classification]"
   ]
  },
  {
   "cell_type": "code",
   "execution_count": 14,
   "metadata": {},
   "outputs": [
    {
     "name": "stdout",
     "output_type": "stream",
     "text": [
      "(25000,) (25000,)\n",
      "[1, 13, 21, 15, 42, 529, 972, 1621, 1384, 64]\n",
      "[1, 590, 201, 13, 30, 5, 716, 9, 9, 2]\n"
     ]
    }
   ],
   "source": [
    "from keras.datasets import imdb\n",
    "\n",
    "# Loading the IMBD dataset\n",
    "# Selecting the 2000 most frequent words\n",
    "(x_train_org, y_train), (x_test_org, y_test) = imdb.load_data(path=\"imdb.npz\",\n",
    "                                                      num_words=2000,\n",
    "                                                      skip_top=0,\n",
    "                                                      maxlen=None,\n",
    "                                                      seed=113,\n",
    "                                                      start_char=1,\n",
    "                                                      oov_char=2,\n",
    "                                                      index_from=2)\n",
    "\n",
    "print(x_train_org.shape, x_test_org.shape)\n",
    "\n",
    "print (x_train_org[0][:10])\n",
    "print (x_test_org[0][:10])\n",
    "\n",
    "# Reducing the data size to be run on CPUs\n",
    "x_train_org = x_train_org[:5000]\n",
    "y_train = y_train[:5000]\n",
    "x_test_org = x_test_org[:500]\n",
    "y_test= y_test[:500]"
   ]
  },
  {
   "cell_type": "code",
   "execution_count": 15,
   "metadata": {},
   "outputs": [
    {
     "name": "stdout",
     "output_type": "stream",
     "text": [
      "Number of unique words: 88584\n"
     ]
    }
   ],
   "source": [
    "# Loading the vocabulary\n",
    "import numpy as np\n",
    "\n",
    "vocab = imdb.get_word_index(path=\"./imdb_word_index.json\")\n",
    "print (\"Number of unique words:\", len(vocab))\n",
    "\n",
    "INDEX_FROM = 2 \n",
    "\n",
    "# Dict {word:id}\n",
    "word_to_id = {x:vocab[x]+INDEX_FROM for x in vocab if vocab[x]<=2000}\n",
    "word_to_id[\"<START>\"] = 1\n",
    "word_to_id[\"<UNK>\"] = 2\n",
    "\n",
    "\n",
    "# Dict {id:word}\n",
    "id_to_word = {word_to_id[x]:x for x in word_to_id}\n",
    "\n",
    "# Array of ordered words by their frequency + special characters\n",
    "vocab_list = np.array([\"<PAD>\"]+[id_to_word[x] for x in range(1,2001)])\n"
   ]
  },
  {
   "cell_type": "code",
   "execution_count": 16,
   "metadata": {},
   "outputs": [
    {
     "name": "stdout",
     "output_type": "stream",
     "text": [
      "Classes: [0 1] \n",
      "\n",
      "Review: <START> and that's why hard to rate br br from the adult point of view <UNK> student point of view i must say i fell nearly <UNK> here sure there is some laughing scene all the credit takes here eddie but that can't save the disney type of script and whole movie that's why br br 2 out of 10\n",
      "Class:  negative\n"
     ]
    }
   ],
   "source": [
    "# Summarize number of classes\n",
    "print (\"Classes:\", np.unique(y_train), \"\\n\")\n",
    "# y = {0:negative | 1:positive}\n",
    "\n",
    "i = 500\n",
    "print (\"Review:\", \" \".join(vocab_list[np.array(x_train_org[i])]))\n",
    "print (\"Class: \", \"positive\" if y_train[i] == 1 else \"negative\")"
   ]
  },
  {
   "cell_type": "code",
   "execution_count": 17,
   "metadata": {},
   "outputs": [],
   "source": [
    "def get_W(word_vecs, k=300):\n",
    "    \"\"\"\n",
    "    Get word matrix. W[i] is the vector for word indexed by i\n",
    "    \"\"\"\n",
    "    vocab_size = len(word_vecs)\n",
    "    word_idx_map = dict()\n",
    "    W = np.zeros(shape=(vocab_size + 1, k), dtype='float32')\n",
    "    W[0] = np.zeros(k, dtype='float32')\n",
    "    i = 1\n",
    "    for word in word_vecs:\n",
    "        W[i] = word_vecs[word]\n",
    "        word_idx_map[word] = i\n",
    "        i += 1\n",
    "    return W, word_idx_map\n",
    "\n",
    "\n",
    "def load_bin_vec(fname, vocab):\n",
    "    \"\"\"\n",
    "    Loads 300x1 word vecs from Google (Mikolov) word2vec\n",
    "    \"\"\"\n",
    "    word_vecs = {}\n",
    "    with open(fname, \"rb\") as f:\n",
    "        header = f.readline()\n",
    "        # ~ print header\n",
    "        vocab_size, layer1_size = map(int, header.split())\n",
    "        binary_len = np.dtype('float32').itemsize * layer1_size\n",
    "        # print(vocab_size)\n",
    "        for line in range(vocab_size):\n",
    "            # print(line)\n",
    "            word = []\n",
    "            while True:\n",
    "                ch = f.read(1)\n",
    "                if ch == ' ':\n",
    "                    word = ''.join(word)\n",
    "                    break\n",
    "                if ch != '\\n':\n",
    "                    word.append(ch)\n",
    "            # print(word)\n",
    "            if word in vocab:\n",
    "                # print(word)\n",
    "                word_vecs[word] = np.frombuffer(f.read(binary_len), dtype='float32')\n",
    "            else:\n",
    "                f.read(binary_len)\n",
    "\n",
    "    return word_vecs\n",
    "\n",
    "def add_unknown_words(word_vecs, vocab, min_df=1, k=300):\n",
    "    \"\"\"\n",
    "    For words that occur in at least min_df documents, create a separate word vector.    \n",
    "    0.25 is chosen so the unknown vectors have (approximately) same variance as pre-trained ones\n",
    "    \"\"\"\n",
    "    for word in vocab:\n",
    "        if word not in word_vecs and vocab[word] >= min_df:\n",
    "            word_vecs[word] = np.random.uniform(-0.25, 0.25, k)\n",
    "            "
   ]
  },
  {
   "cell_type": "code",
   "execution_count": 18,
   "metadata": {},
   "outputs": [
    {
     "ename": "MemoryError",
     "evalue": "",
     "output_type": "error",
     "traceback": [
      "\u001b[1;31m---------------------------------------------------------------------------\u001b[0m",
      "\u001b[1;31mMemoryError\u001b[0m                               Traceback (most recent call last)",
      "\u001b[1;32m<ipython-input-18-cd85cbc1f498>\u001b[0m in \u001b[0;36m<module>\u001b[1;34m\u001b[0m\n\u001b[0;32m      3\u001b[0m \u001b[1;31m#w2v_file = \"/projekte/slu/share/GoogleNews-vectors-negative300.bin\"\u001b[0m\u001b[1;33m\u001b[0m\u001b[1;33m\u001b[0m\u001b[1;33m\u001b[0m\u001b[0m\n\u001b[0;32m      4\u001b[0m \u001b[0mw2v_file\u001b[0m \u001b[1;33m=\u001b[0m \u001b[1;34m\"GoogleNews-vectors-negative300.bin\"\u001b[0m\u001b[1;33m\u001b[0m\u001b[1;33m\u001b[0m\u001b[0m\n\u001b[1;32m----> 5\u001b[1;33m \u001b[0mw2v\u001b[0m \u001b[1;33m=\u001b[0m \u001b[0mload_bin_vec\u001b[0m\u001b[1;33m(\u001b[0m\u001b[0mw2v_file\u001b[0m\u001b[1;33m,\u001b[0m \u001b[0mword_to_id\u001b[0m\u001b[1;33m)\u001b[0m\u001b[1;33m\u001b[0m\u001b[1;33m\u001b[0m\u001b[0m\n\u001b[0m\u001b[0;32m      6\u001b[0m \u001b[0mprint\u001b[0m\u001b[1;33m(\u001b[0m\u001b[1;34m\"num words found:\"\u001b[0m\u001b[1;33m+\u001b[0m \u001b[0mstr\u001b[0m\u001b[1;33m(\u001b[0m\u001b[0mlen\u001b[0m\u001b[1;33m(\u001b[0m\u001b[0mw2v\u001b[0m\u001b[1;33m)\u001b[0m\u001b[1;33m)\u001b[0m\u001b[1;33m)\u001b[0m\u001b[1;33m\u001b[0m\u001b[1;33m\u001b[0m\u001b[0m\n\u001b[0;32m      7\u001b[0m \u001b[0madd_unknown_words\u001b[0m\u001b[1;33m(\u001b[0m\u001b[0mw2v\u001b[0m\u001b[1;33m,\u001b[0m \u001b[0mword_to_id\u001b[0m\u001b[1;33m,\u001b[0m \u001b[0mk\u001b[0m\u001b[1;33m=\u001b[0m\u001b[1;36m300\u001b[0m\u001b[1;33m)\u001b[0m\u001b[1;33m\u001b[0m\u001b[1;33m\u001b[0m\u001b[0m\n",
      "\u001b[1;32m<ipython-input-17-53041446333b>\u001b[0m in \u001b[0;36mload_bin_vec\u001b[1;34m(fname, vocab)\u001b[0m\n\u001b[0;32m     35\u001b[0m                     \u001b[1;32mbreak\u001b[0m\u001b[1;33m\u001b[0m\u001b[1;33m\u001b[0m\u001b[0m\n\u001b[0;32m     36\u001b[0m                 \u001b[1;32mif\u001b[0m \u001b[0mch\u001b[0m \u001b[1;33m!=\u001b[0m \u001b[1;34m'\\n'\u001b[0m\u001b[1;33m:\u001b[0m\u001b[1;33m\u001b[0m\u001b[1;33m\u001b[0m\u001b[0m\n\u001b[1;32m---> 37\u001b[1;33m                     \u001b[0mword\u001b[0m\u001b[1;33m.\u001b[0m\u001b[0mappend\u001b[0m\u001b[1;33m(\u001b[0m\u001b[0mch\u001b[0m\u001b[1;33m)\u001b[0m\u001b[1;33m\u001b[0m\u001b[1;33m\u001b[0m\u001b[0m\n\u001b[0m\u001b[0;32m     38\u001b[0m             \u001b[1;31m# print(word)\u001b[0m\u001b[1;33m\u001b[0m\u001b[1;33m\u001b[0m\u001b[1;33m\u001b[0m\u001b[0m\n\u001b[0;32m     39\u001b[0m             \u001b[1;32mif\u001b[0m \u001b[0mword\u001b[0m \u001b[1;32min\u001b[0m \u001b[0mvocab\u001b[0m\u001b[1;33m:\u001b[0m\u001b[1;33m\u001b[0m\u001b[1;33m\u001b[0m\u001b[0m\n",
      "\u001b[1;31mMemoryError\u001b[0m: "
     ]
    }
   ],
   "source": [
    "import time\n",
    "start = time.time()\n",
    "#w2v_file = \"/projekte/slu/share/GoogleNews-vectors-negative300.bin\"\n",
    "w2v_file = \"GoogleNews-vectors-negative300.bin\"\n",
    "w2v = load_bin_vec(w2v_file, word_to_id)\n",
    "print(\"num words found:\"+ str(len(w2v)))\n",
    "add_unknown_words(w2v, word_to_id, k=300)\n",
    "W, word_idx_map = get_W(w2v, k=300)\n",
    "\n",
    "print (\"W shape: \", W.shape)\n",
    "\n",
    "print (time.time()-start, \"seconds to get the embeddings\")"
   ]
  },
  {
   "cell_type": "code",
   "execution_count": null,
   "metadata": {},
   "outputs": [],
   "source": [
    "# Max and avg number of word\n",
    "lengths = [len(x) for x in x_train_org]\n",
    "print \"max\", max(lengths)\n",
    "print \"mean\", np.mean(lengths)\n"
   ]
  },
  {
   "cell_type": "code",
   "execution_count": null,
   "metadata": {},
   "outputs": [],
   "source": [
    "# Padding the input data\n",
    "from keras.preprocessing import sequence\n",
    "input_length = 350 # average length \n",
    "\n",
    "x_train = sequence.pad_sequences(x_train_org, maxlen=input_length, padding='post', truncating='post')\n",
    "x_test = sequence.pad_sequences(x_test_org, maxlen=input_length, padding='post', truncating='post')\n",
    "print(x_train[1])\n"
   ]
  },
  {
   "cell_type": "markdown",
   "metadata": {},
   "source": [
    "### Two dense layers for Sentiment Analysis"
   ]
  },
  {
   "cell_type": "code",
   "execution_count": null,
   "metadata": {},
   "outputs": [],
   "source": [
    "# create the model - Two dense layer\n",
    "from keras.models import Sequential\n",
    "from keras.layers import Dense\n",
    "from keras.layers import Flatten\n",
    "from keras.layers.embeddings import Embedding\n",
    "from keras.preprocessing import sequence\n",
    "\n",
    "model = Sequential()\n",
    "model.add(Embedding(W.shape[0], W.shape[1], input_length=input_length, weights=[W]))\n",
    "model.add(Flatten())\n",
    "model.add(Dense(10, activation='relu'))\n",
    "model.add(Dense(10, activation='relu'))\n",
    "model.add(Dense(1, activation='sigmoid'))\n",
    "print(model.summary())\n",
    "plot_model(model, to_file='Sent_FF.png', show_shapes=False, show_layer_names=True, rankdir='TB')\n",
    "\n",
    "# loss function = binary_crossentropy\n",
    "model.compile(loss='binary_crossentropy', optimizer='adam', metrics=['accuracy'])"
   ]
  },
  {
   "cell_type": "code",
   "execution_count": null,
   "metadata": {},
   "outputs": [],
   "source": [
    "# Fit the model\n",
    "model.fit(x_train, y_train, validation_data=(x_test, y_test), epochs=5, batch_size=128, verbose=2)\n",
    "# Final evaluation of the model\n",
    "scores = model.evaluate(x_test, y_test, verbose=0)\n",
    "print(\"Accuracy: %.2f%%\" % (scores[1]*100))"
   ]
  },
  {
   "cell_type": "markdown",
   "metadata": {},
   "source": [
    "### Simple CNN for Sentiment Analysis"
   ]
  },
  {
   "cell_type": "code",
   "execution_count": null,
   "metadata": {
    "scrolled": true
   },
   "outputs": [],
   "source": [
    "# create the model - CNN\n",
    "from keras.layers import Conv2D, Reshape, MaxPooling2D\n",
    "\n",
    "vocab_size = W.shape[0]\n",
    "embedding_size = W.shape[1]\n",
    "\n",
    "model = Sequential()\n",
    "model.add(Embedding(vocab_size, embedding_size, input_length=input_length, weights=[W]))\n",
    "model.add(Reshape((input_length, embedding_size, 1)))\n",
    "\n",
    "# CNN hyperparameters\n",
    "num_filters = 100\n",
    "n_gram = 5\n",
    "filter_size = (n_gram, embedding_size)\n",
    "          \n",
    "model.add(Conv2D(num_filters, filter_size, activation='relu'))\n",
    "print model.output_shape\n",
    "model.add(MaxPooling2D(pool_size=(model.output_shape[1], 1)))\n",
    "          \n",
    "model.add(Flatten())\n",
    "model.add(Dense(250, activation='relu'))\n",
    "\n",
    "model.add(Dense(1, activation='sigmoid'))\n",
    "model.compile(loss='binary_crossentropy', optimizer='adam', metrics=['accuracy'])\n",
    "print(model.summary())\n",
    "plot_model(model, to_file='Sent_simple_CNN.png', show_shapes=False, show_layer_names=True, rankdir='TB')"
   ]
  },
  {
   "cell_type": "code",
   "execution_count": null,
   "metadata": {
    "scrolled": true
   },
   "outputs": [],
   "source": [
    "# Fit the model\n",
    "model.fit(x_train, y_train, validation_data=(x_test, y_test), epochs=5, batch_size=128, verbose=2)\n",
    "# Final evaluation of the model\n",
    "scores = model.evaluate(x_test, y_test, verbose=0)\n",
    "print(\"Accuracy: %.2f%%\" % (scores[1]*100))"
   ]
  },
  {
   "cell_type": "markdown",
   "metadata": {},
   "source": [
    "###  Non-sequential CNN for Sentiment Analysis"
   ]
  },
  {
   "cell_type": "code",
   "execution_count": null,
   "metadata": {},
   "outputs": [],
   "source": [
    "from keras.models import Model\n",
    "from keras.layers import Input, Concatenate\n",
    "\n",
    "# Input layer\n",
    "input_x = Input(shape=(input_length,), dtype=np.int32)\n",
    "\n",
    "# Embedding layer\n",
    "embeddings = Embedding(vocab_size, embedding_size, input_length=input_length,\n",
    "                           weights=[W])(input_x)\n",
    "\n",
    "# Reshape to 3D\n",
    "conv_input = Reshape((input_length, embedding_size, 1))(embeddings)\n",
    "\n",
    "# CNN Hyperparameters\n",
    "# 3 filters shapes\n",
    "filter_widths = [3, 4, 5]\n",
    "\n",
    "num_filters = 100\n",
    "filter_height = embedding_size\n",
    "\n",
    "pooled_outputs = []\n",
    "\n",
    "# Convolution layers\n",
    "for width in filter_widths:\n",
    "    conv = Conv2D(num_filters, (width, filter_height), activation='relu')(conv_input)\n",
    "    pooling = MaxPooling2D(pool_size=(int(conv.shape[1]), 1))(conv)\n",
    "    pooled_outputs.append(pooling)\n",
    "    \n",
    "# Concatenation of maxpooling outputs\n",
    "h_pool = Concatenate(axis=-1)(pooled_outputs)\n",
    "h_pool = Reshape((int(h_pool.shape[-1]), ))(h_pool)\n",
    "\n",
    "# Sigmoid\n",
    "dense = Dense(1, activation='sigmoid')(h_pool)\n",
    "\n",
    "model = Model(input_x, dense)\n",
    "\n",
    "\n",
    "# Model compilation, Adam optimizer\n",
    "model.compile(loss='binary_crossentropy', optimizer='adam', metrics=['accuracy'])\n",
    "\n",
    "model.summary()    \n",
    "plot_model(model, to_file='Sent_non_seq_CNN.png', show_shapes=False, show_layer_names=True, rankdir='TB')"
   ]
  },
  {
   "cell_type": "code",
   "execution_count": null,
   "metadata": {},
   "outputs": [],
   "source": [
    "# Fit the model\n",
    "model.fit(x_train, y_train, validation_data=(x_test, y_test), epochs=5, batch_size=512, verbose=2)\n",
    "# Final evaluation of the model\n",
    "scores = model.evaluate(x_test, y_test,  batch_size=512, verbose=0)\n",
    "print(\"Accuracy: %.2f%%\" % (scores[1]*100))"
   ]
  },
  {
   "cell_type": "markdown",
   "metadata": {},
   "source": [
    "###  LSTM-RNN for Sentiment Analysis"
   ]
  },
  {
   "cell_type": "code",
   "execution_count": null,
   "metadata": {},
   "outputs": [],
   "source": [
    "from keras.models import Model\n",
    "from keras.layers import LSTM, Input\n",
    "\n",
    "# Input layer\n",
    "input_x = Input(shape=(input_length,), dtype=np.int32)\n",
    "\n",
    "# Embedding layer\n",
    "embeddings = Embedding(2002, 32, input_length=input_length, \n",
    "                       mask_zero=True)(input_x)\n",
    "\n",
    "# Reshape to 3D\n",
    "lstm = LSTM(units=100)(embeddings)\n",
    "\n",
    "\n",
    "# Sigmoid\n",
    "dense = Dense(1, activation='sigmoid')(lstm)\n",
    "\n",
    "# Defining model\n",
    "model = Model(input_x, dense)\n",
    "\n",
    "\n",
    "# Model compilation, Adam optimizer\n",
    "model.compile(loss='binary_crossentropy', optimizer='adam', metrics=['accuracy'])\n",
    "\n",
    "model.summary()    \n",
    "# plot_model(model, to_file='Sent_lstm.png', show_shapes=False, show_layer_names=True, rankdir='TB')"
   ]
  },
  {
   "cell_type": "code",
   "execution_count": null,
   "metadata": {},
   "outputs": [],
   "source": [
    "# Fit the model\n",
    "history = model.fit(x_train, y_train, validation_data=(x_test, y_test), epochs=5, batch_size=512)\n",
    "# Final evaluation of the model\n",
    "scores = model.evaluate(x_test, y_test, batch_size=512, verbose=0)\n",
    "print \"Accuracy: %.2f%%\" % (scores[1]*100)"
   ]
  },
  {
   "cell_type": "code",
   "execution_count": null,
   "metadata": {},
   "outputs": [],
   "source": [
    "# Plot training & validation accuracy values\n",
    "plt.plot(history.history['acc'])\n",
    "plt.plot(history.history['val_acc'])\n",
    "plt.title('Model accuracy')\n",
    "plt.ylabel('Accuracy')\n",
    "plt.xlabel('Epoch')\n",
    "plt.legend(['Train', 'Test'], loc='upper left')\n",
    "plt.show()\n"
   ]
  },
  {
   "cell_type": "markdown",
   "metadata": {},
   "source": [
    "### Saving and loading the model\n",
    "\n"
   ]
  },
  {
   "cell_type": "code",
   "execution_count": null,
   "metadata": {},
   "outputs": [],
   "source": [
    "from keras.models import load_model\n",
    "\n",
    "model.save('my_model.h5')  # creates a HDF5 file 'my_model.h5'\n",
    "del model  # deletes the existing model\n",
    "\n",
    "# returns a compiled model\n",
    "# identical to the previous one\n",
    "model = load_model('my_model.h5')\n",
    "\n",
    "scores = model.evaluate(x_test, y_test, batch_size=512, verbose=0)\n",
    "print(\"Accuracy: %.2f%%\" % (scores[1]*100))"
   ]
  },
  {
   "cell_type": "code",
   "execution_count": null,
   "metadata": {},
   "outputs": [],
   "source": []
  }
 ],
 "metadata": {
  "kernelspec": {
   "display_name": "Python 3",
   "language": "python",
   "name": "python3"
  },
  "language_info": {
   "codemirror_mode": {
    "name": "ipython",
    "version": 3
   },
   "file_extension": ".py",
   "mimetype": "text/x-python",
   "name": "python",
   "nbconvert_exporter": "python",
   "pygments_lexer": "ipython3",
   "version": "3.6.8"
  }
 },
 "nbformat": 4,
 "nbformat_minor": 2
}
